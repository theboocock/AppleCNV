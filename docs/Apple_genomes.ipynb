{
 "metadata": {
  "name": "Apple_genomes"
 },
 "nbformat": 3,
 "nbformat_minor": 0,
 "worksheets": [
  {
   "cells": [
    {
     "cell_type": "heading",
     "level": 1,
     "metadata": {},
     "source": [
      "Apple Genome Copy Number"
     ]
    },
    {
     "cell_type": "markdown",
     "metadata": {},
     "source": [
      "* Analyse copy number in apples"
     ]
    },
    {
     "cell_type": "heading",
     "level": 3,
     "metadata": {},
     "source": [
      "Alignments"
     ]
    },
    {
     "cell_type": "markdown",
     "metadata": {},
     "source": [
      "* created python library for running multiple subprocesses.\n"
     ]
    },
    {
     "cell_type": "markdown",
     "metadata": {},
     "source": [
      "STEPS\n",
      "========\n",
      "\n",
      "\n",
      "1. Align all reads with 2 reads so we can use sampse\n",
      "2. "
     ]
    }
   ],
   "metadata": {}
  }
 ]
}